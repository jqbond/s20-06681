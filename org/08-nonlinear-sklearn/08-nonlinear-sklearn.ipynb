{
 "cells": [
  {
   "cell_type": "markdown",
   "metadata": {},
   "source": [
    "## Nonlinear models in sklearn\n",
    "\n"
   ]
  },
  {
   "cell_type": "markdown",
   "metadata": {},
   "source": [
    "Nonlinear models have parameters that the output is not linear in. `sklearn` does not provide general nonlinear model fitting routine. That is more commonly a normal regression problem.\n",
    "\n",
    "We will instead focus on two types of nonlinear models: neural networks and Gaussian Process Regression. These are two different styles of model, with different pros and cons.\n",
    "\n",
    "Nonlinear models are harder to fit, harder to interpret, and more complex than linear models. You should think hard about whether a nonlinear model is the right next step forward. Some alternatives include using better features with linear models.\n",
    "\n"
   ]
  },
  {
   "cell_type": "markdown",
   "metadata": {},
   "source": [
    "## Neural networks\n",
    "\n"
   ]
  },
  {
   "cell_type": "markdown",
   "metadata": {},
   "source": [
    "Neural networks are very old in concept. Originally the started as an approach to model neurons in an attempt to build programs that could simulate a brain. This did not work. Since then, we have come to understand much more about what these models are, and how they are related to other models.\n",
    "\n",
    "[https://scikit-learn.org/stable/modules/neural_networks_supervised.html](https://scikit-learn.org/stable/modules/neural_networks_supervised.html)\n",
    "\n",
    "Let's dive in and see an example straight away. I do not emphasize the importance of train-test splitting of the data in this example, but it is still an important thing to consider in real applications. We will use the same data you used before from last class. You should run this block several times to see what happens.\n",
    "\n"
   ]
  },
  {
   "cell_type": "code",
   "execution_count": 12,
   "metadata": {},
   "outputs": [
    {
     "data": {
      "text/plain": [
       "Text(0, 0.5, 'energy')"
      ]
     },
     "execution_count": 12,
     "metadata": {},
     "output_type": "execute_result"
    },
    {
     "data": {
      "image/png": "[encoded data removed]",
      "text/plain": [
       "<Figure size 432x288 with 1 Axes>"
      ]
     },
     "metadata": {
      "needs_background": "light"
     },
     "output_type": "display_data"
    }
   ],
   "source": [
    "import numpy as np\n",
    "import json\n",
    "%matplotlib inline\n",
    "import matplotlib.pyplot as plt\n",
    "\n",
    "with open('../07-intermediate-sklearn/data.json') as f:\n",
    "    data = json.load(f)\n",
    "\n",
    "X = np.array([data['distance']]).T\n",
    "y = data['energy']\n",
    "\n",
    "from sklearn.neural_network import MLPRegressor\n",
    "\n",
    "model = MLPRegressor(hidden_layer_sizes=(3,), activation='tanh', solver='lbfgs')\n",
    "model.fit(X, y)\n",
    "\n",
    "dfit = np.linspace(1.5, 7)\n",
    "\n",
    "plt.plot(data['distance'], data['energy'], 'bo',\n",
    "         dfit, model.predict(dfit[:, None]))\n",
    "\n",
    "plt.xlabel('distance')\n",
    "plt.ylabel('energy')"
   ]
  },
  {
   "cell_type": "markdown",
   "metadata": {},
   "source": [
    "Some notes:\n",
    "\n",
    "1.  Not every fit is successful. When I run this several times, some work, and some don't.\n",
    "2.  There are *many* hyperparameters we have to consider. The defaults did not work.\n",
    "    1.  These hyperparameters include regularization, the optimizer algorithm, and their parameters.\n",
    "3.  It looks like we really learned the data here. We did not.\n",
    "    1.  We do see a plateau at large *d* here, but that is a feature of the `tanh` function which has that behavior. Other functions do not do that.\n",
    "    2.  We actually see the same plateau at negative values of *d* for the same reason.\n",
    "    3.  You can see what we did was \"find\" a non-linear function that matches the curvature of our data where have it. There are an *infinite* number of these functions.\n",
    "\n"
   ]
  },
  {
   "cell_type": "code",
   "execution_count": 13,
   "metadata": {},
   "outputs": [
    {
     "data": {
      "text/plain": [
       "Text(0, 0.5, 'energy')"
      ]
     },
     "execution_count": 13,
     "metadata": {},
     "output_type": "execute_result"
    },
    {
     "data": {
      "image/png": "[encoded data removed]",
      "text/plain": [
       "<Figure size 432x288 with 1 Axes>"
      ]
     },
     "metadata": {
      "needs_background": "light"
     },
     "output_type": "display_data"
    }
   ],
   "source": [
    "dfit = np.linspace(-5, 9, 200)\n",
    "plt.plot(data['distance'], data['energy'], 'bo',\n",
    "         dfit, model.predict(dfit[:, None]))\n",
    "\n",
    "plt.xlabel('distance')\n",
    "plt.ylabel('energy')"
   ]
  },
  {
   "cell_type": "markdown",
   "metadata": {},
   "source": [
    "Let's take a look under the hood here to see what is happening.\n",
    "\n"
   ]
  },
  {
   "cell_type": "code",
   "execution_count": 15,
   "metadata": {},
   "outputs": [
    {
     "data": {
      "text/plain": [
       "MLPRegressor(activation='tanh', hidden_layer_sizes=(3,), solver='lbfgs')"
      ]
     },
     "execution_count": 15,
     "metadata": {},
     "output_type": "execute_result"
    }
   ],
   "source": [
    "model"
   ]
  },
  {
   "cell_type": "markdown",
   "metadata": {},
   "source": [
    "Here are the weights for our network.\n",
    "\n"
   ]
  },
  {
   "cell_type": "code",
   "execution_count": 16,
   "metadata": {},
   "outputs": [
    {
     "data": {
      "text/plain": [
       "[array([[-3.06375456,  0.68078108, -2.65843808]]),\n",
       " array([[-3.86654094],\n",
       "        [ 7.18727983],\n",
       "        [ 7.84731162]])]"
      ]
     },
     "execution_count": 16,
     "metadata": {},
     "output_type": "execute_result"
    }
   ],
   "source": [
    "model.coefs_"
   ]
  },
  {
   "cell_type": "markdown",
   "metadata": {},
   "source": [
    "These are the \"biases\" in the neural network.\n",
    "\n"
   ]
  },
  {
   "cell_type": "code",
   "execution_count": 17,
   "metadata": {},
   "outputs": [
    {
     "data": {
      "text/plain": [
       "[array([-2.03362802, -1.1413183 ,  4.33242395]), array([3.94163639])]"
      ]
     },
     "execution_count": 17,
     "metadata": {},
     "output_type": "execute_result"
    }
   ],
   "source": [
    "model.intercepts_"
   ]
  },
  {
   "cell_type": "markdown",
   "metadata": {},
   "source": [
    "We can reconstruct this simple NN in just a few lines of code. I am doing this here to demystify what a neural network is. It is *just* math.\n",
    "\n"
   ]
  },
  {
   "cell_type": "code",
   "execution_count": 18,
   "metadata": {},
   "outputs": [
    {
     "data": {
      "text/plain": [
       "[<matplotlib.lines.Line2D at 0x2d9cb0e5848>,\n",
       " <matplotlib.lines.Line2D at 0x2d9cb0e5ac8>]"
      ]
     },
     "execution_count": 18,
     "metadata": {},
     "output_type": "execute_result"
    },
    {
     "data": {
      "image/png": "[encoded data removed]",
      "text/plain": [
       "<Figure size 432x288 with 1 Axes>"
      ]
     },
     "metadata": {
      "needs_background": "light"
     },
     "output_type": "display_data"
    }
   ],
   "source": [
    "w0, w1 = model.coefs_\n",
    "b0, b1 = model.intercepts_\n",
    "#np.tanh(w * X) + b\n",
    "fit = np.tanh(dfit[:, None] @ w0 + b0) @ w1 + b1\n",
    "\n",
    "plt.plot(X, y, 'bo', dfit, fit)"
   ]
  },
  {
   "cell_type": "markdown",
   "metadata": {},
   "source": [
    "It should be evident that this NN is just a small nonlinear model, with 10 free parameters. It might not be a surprise then that it has a lot of flexibility to fit arbitrary data.\n",
    "\n",
    "The simple linear algebra formulation hides a way to think about this simple model. It is like a truncated (three term) expansion of a function in a `tanh` basis function set. If instead of using tanh, we used `sin` and `cos` functions, we would call this a truncated Fourier series expansion. We have to be a little liberal in this interpretation. In the expansions, the coefficients are well-defined as integrals that are practically projections of the unknown function on the basis function. Here, we treat them as fitting coefficients.\n",
    "\n",
    "You can choose from dozens of activation functions (not all of them are available in sklearn though). Probably any nonlinear function will work. How to choose them is the subject of a lot of study. The classic functions are `tanh` and `sigmoid`. These are good functions, but they tend to saturate for large magnitude inputs, which makes fitting slow. It is therefore essential to scale the data before fitting so that it all fits in the \"active regions\" which is roughly between x=-2 and x=2.\n",
    "\n"
   ]
  },
  {
   "cell_type": "code",
   "execution_count": 19,
   "metadata": {},
   "outputs": [
    {
     "data": {
      "text/plain": [
       "[<matplotlib.lines.Line2D at 0x2d9cb14be48>]"
      ]
     },
     "execution_count": 19,
     "metadata": {},
     "output_type": "execute_result"
    },
    {
     "data": {
      "image/png": "[encoded data removed]",
      "text/plain": [
       "<Figure size 432x288 with 1 Axes>"
      ]
     },
     "metadata": {
      "needs_background": "light"
     },
     "output_type": "display_data"
    }
   ],
   "source": [
    "x = np.linspace(-5, 5)\n",
    "plt.plot(x, np.tanh(x))"
   ]
  },
  {
   "cell_type": "markdown",
   "metadata": {},
   "source": [
    "A newer function is called ReLU, which is a piece wise linear function. This function does not saturate, but for negative inputs, the function is zero and its derivative is zero. Neurons that get negative values are called \"dead\" neurons because they don't contribute to the output.\n",
    "\n",
    "The activation function is the feature that provides the extrapolative behavior of these models. If you don't do extrapolation, it is not that important, but it also can affect how easy the fitting works. The more like your data the activation function is, the better it will be able to fit the data. This is similar to how expansions work.\n",
    "\n",
    "`sklearn` is good for standard models, and it covers a lot of territory. It is not that great when you stray from the standard territory though. It is just not that easy to extend to new models.\n",
    "\n",
    "The main choices we have to make are:\n",
    "\n",
    "1.  The number of nodes in each layer\n",
    "2.  The number of layers\n",
    "3.  The activation function\n",
    "4.  What kind of regularization to use\n",
    "5.  Which optimizer and its tuning parameters\n",
    "6.  How to standardize the data input, and what data input to use\n",
    "\n",
    "These are all hyperparameters that require careful study and analysis to learn how to make the right decisions. There are no simple answers, and the choices are often different for different cases.\n",
    "\n",
    "Neural networks are frequently criticized for not being \"interpretable\". This means the parameters typically have no physical meaning, and it is not easy to see how the input is related to the output. This is not much worse than polynomial models though, where the parameters only have as much meaning as the input features provide.\n",
    "\n"
   ]
  },
  {
   "cell_type": "markdown",
   "metadata": {},
   "source": [
    "## Gaussian Process Regression\n",
    "\n"
   ]
  },
  {
   "cell_type": "markdown",
   "metadata": {},
   "source": [
    "In sklearn: [https://scikit-learn.org/stable/modules/gaussian_process.html](https://scikit-learn.org/stable/modules/gaussian_process.html)\n",
    "\n",
    "So far, we have considered models where conceptually we get a set of parameters that represent the \"best\" curve that fits the data. These are called *parametric* models. We can see from the neural network discussion above though that there could be an infinite number of curves that effectively fit the data well. In the so-called Bayesian perspective on this, we could consider a *distribution* of functions then, instead of a single function. Then, instead of a single prediction value, we will get a distribution of predicted values from the distribution of functions. These models are called *non-parametric*, because they don't have fitting parameters in the same sense, they only have hyperparameters that affect the distribution of functions.\n",
    "\n",
    "The approach we will consider here is called [Gaussian process regression](http://www.gaussianprocess.org/gpml/). We will take a practical perspective with an emphasis on using it, rather than a deep understanding of the theoretical foundations. You can find all of that in this [book](http://www.gaussianprocess.org/gpml/).\n",
    "\n",
    "The core idea in GPR is that if we have some data that represents a function we can predict new values by computing a similarity metric between the new inputs and the known inputs, and use those to compute a weighted sum of known outputs as a prediction for the new output.\n",
    "\n",
    "The similarity metric is computed with a *kernel*, and similar to the neural network activation function  we have to choose what kernel to use. The classic kernel is a Gaussian function, also called a radial basis function kernel.\n",
    "\n"
   ]
  },
  {
   "cell_type": "markdown",
   "metadata": {},
   "source": [
    "### An example\n",
    "\n"
   ]
  },
  {
   "cell_type": "markdown",
   "metadata": {},
   "source": [
    "Our goal is to fit to a function representing the results of the experiments done by Hoffman and Rehage *(Rheological properties of viscoelastic surfactant systems. The Journal of Physical Chemistry, 92(16):4712–4719, 1988.)* to calculate the zero shear viscosity of a worm-like micelles solution. These notes were prepared by Siddhant Lambor.\n",
    "\n",
    "[img src=\"../../slambor-notes/Gaussian Process regression/GPR3.PNG\"](img src=\"../../slambor-notes/Gaussian Process regression/GPR3.PNG\")\n",
    "\n",
    "We will be using experimental data which was gathered through gaussian process regression based design of experiments to replicate the above plot.\n",
    "\n"
   ]
  },
  {
   "cell_type": "code",
   "execution_count": 22,
   "metadata": {},
   "outputs": [
    {
     "data": {
      "text/html": [
       "<div>\n",
       "<style scoped>\n",
       "    .dataframe tbody tr th:only-of-type {\n",
       "        vertical-align: middle;\n",
       "    }\n",
       "\n",
       "    .dataframe tbody tr th {\n",
       "        vertical-align: top;\n",
       "    }\n",
       "\n",
       "    .dataframe thead th {\n",
       "        text-align: right;\n",
       "    }\n",
       "</style>\n",
       "<table border=\"1\" class=\"dataframe\">\n",
       "  <thead>\n",
       "    <tr style=\"text-align: right;\">\n",
       "      <th></th>\n",
       "      <th>conc</th>\n",
       "      <th>zsv</th>\n",
       "      <th>log-conc</th>\n",
       "      <th>log-zsv</th>\n",
       "    </tr>\n",
       "    <tr>\n",
       "      <th>ExptNo.</th>\n",
       "      <th></th>\n",
       "      <th></th>\n",
       "      <th></th>\n",
       "      <th></th>\n",
       "    </tr>\n",
       "  </thead>\n",
       "  <tbody>\n",
       "    <tr>\n",
       "      <th>1</th>\n",
       "      <td>1.80</td>\n",
       "      <td>1.343571</td>\n",
       "      <td>0.587787</td>\n",
       "      <td>0.295331</td>\n",
       "    </tr>\n",
       "    <tr>\n",
       "      <th>2</th>\n",
       "      <td>7.50</td>\n",
       "      <td>470.248800</td>\n",
       "      <td>2.014903</td>\n",
       "      <td>6.153262</td>\n",
       "    </tr>\n",
       "    <tr>\n",
       "      <th>3</th>\n",
       "      <td>31.60</td>\n",
       "      <td>4.892228</td>\n",
       "      <td>3.453157</td>\n",
       "      <td>1.587648</td>\n",
       "    </tr>\n",
       "    <tr>\n",
       "      <th>4</th>\n",
       "      <td>133.40</td>\n",
       "      <td>9.687286</td>\n",
       "      <td>4.893352</td>\n",
       "      <td>2.270814</td>\n",
       "    </tr>\n",
       "    <tr>\n",
       "      <th>5</th>\n",
       "      <td>562.30</td>\n",
       "      <td>1.586862</td>\n",
       "      <td>6.332036</td>\n",
       "      <td>0.461759</td>\n",
       "    </tr>\n",
       "    <tr>\n",
       "      <th>6</th>\n",
       "      <td>3.16</td>\n",
       "      <td>1.385140</td>\n",
       "      <td>1.150572</td>\n",
       "      <td>0.325801</td>\n",
       "    </tr>\n",
       "    <tr>\n",
       "      <th>7</th>\n",
       "      <td>5.21</td>\n",
       "      <td>4.537974</td>\n",
       "      <td>1.650580</td>\n",
       "      <td>1.512481</td>\n",
       "    </tr>\n",
       "    <tr>\n",
       "      <th>8</th>\n",
       "      <td>11.02</td>\n",
       "      <td>57.865808</td>\n",
       "      <td>2.399712</td>\n",
       "      <td>4.058127</td>\n",
       "    </tr>\n",
       "    <tr>\n",
       "      <th>9</th>\n",
       "      <td>18.17</td>\n",
       "      <td>8.042775</td>\n",
       "      <td>2.899772</td>\n",
       "      <td>2.084774</td>\n",
       "    </tr>\n",
       "    <tr>\n",
       "      <th>10</th>\n",
       "      <td>60.34</td>\n",
       "      <td>7.768176</td>\n",
       "      <td>4.099995</td>\n",
       "      <td>2.050035</td>\n",
       "    </tr>\n",
       "    <tr>\n",
       "      <th>11</th>\n",
       "      <td>4.06</td>\n",
       "      <td>1.544971</td>\n",
       "      <td>1.401183</td>\n",
       "      <td>0.435005</td>\n",
       "    </tr>\n",
       "    <tr>\n",
       "      <th>12</th>\n",
       "      <td>8.05</td>\n",
       "      <td>537.217396</td>\n",
       "      <td>2.085672</td>\n",
       "      <td>6.286403</td>\n",
       "    </tr>\n",
       "    <tr>\n",
       "      <th>13</th>\n",
       "      <td>23.34</td>\n",
       "      <td>5.851642</td>\n",
       "      <td>3.150169</td>\n",
       "      <td>1.766722</td>\n",
       "    </tr>\n",
       "    <tr>\n",
       "      <th>14</th>\n",
       "      <td>94.63</td>\n",
       "      <td>11.911588</td>\n",
       "      <td>4.549975</td>\n",
       "      <td>2.477512</td>\n",
       "    </tr>\n",
       "    <tr>\n",
       "      <th>15</th>\n",
       "      <td>295.89</td>\n",
       "      <td>3.646146</td>\n",
       "      <td>5.689988</td>\n",
       "      <td>1.293671</td>\n",
       "    </tr>\n",
       "    <tr>\n",
       "      <th>16</th>\n",
       "      <td>43.82</td>\n",
       "      <td>5.809897</td>\n",
       "      <td>3.780090</td>\n",
       "      <td>1.759563</td>\n",
       "    </tr>\n",
       "  </tbody>\n",
       "</table>\n",
       "</div>"
      ],
      "text/plain": [
       "           conc         zsv  log-conc   log-zsv\n",
       "ExptNo.                                        \n",
       "1          1.80    1.343571  0.587787  0.295331\n",
       "2          7.50  470.248800  2.014903  6.153262\n",
       "3         31.60    4.892228  3.453157  1.587648\n",
       "4        133.40    9.687286  4.893352  2.270814\n",
       "5        562.30    1.586862  6.332036  0.461759\n",
       "6          3.16    1.385140  1.150572  0.325801\n",
       "7          5.21    4.537974  1.650580  1.512481\n",
       "8         11.02   57.865808  2.399712  4.058127\n",
       "9         18.17    8.042775  2.899772  2.084774\n",
       "10        60.34    7.768176  4.099995  2.050035\n",
       "11         4.06    1.544971  1.401183  0.435005\n",
       "12         8.05  537.217396  2.085672  6.286403\n",
       "13        23.34    5.851642  3.150169  1.766722\n",
       "14        94.63   11.911588  4.549975  2.477512\n",
       "15       295.89    3.646146  5.689988  1.293671\n",
       "16        43.82    5.809897  3.780090  1.759563"
      ]
     },
     "execution_count": 22,
     "metadata": {},
     "output_type": "execute_result"
    }
   ],
   "source": [
    "import pandas as pd\n",
    "df = pd.read_csv('logzsv.csv', index_col=0)\n",
    "df"
   ]
  },
  {
   "cell_type": "markdown",
   "metadata": {},
   "source": [
    "Let's take a look at the data. You can see it resembles the figure from the paper. Our goal is to build a model that fits this data, so we can predict values between the data points. This data is clearly not linear in the feature space, and it is not obvious what functional form would fit this data well. A conventional model might be a sum of two Gaussian functions, but we take a different approach here with GPR.\n",
    "\n"
   ]
  },
  {
   "cell_type": "code",
   "execution_count": 23,
   "metadata": {},
   "outputs": [
    {
     "data": {
      "text/plain": [
       "Text(0, 0.5, 'y')"
      ]
     },
     "execution_count": 23,
     "metadata": {},
     "output_type": "execute_result"
    },
    {
     "data": {
      "image/png": "[encoded data removed]",
      "text/plain": [
       "<Figure size 432x288 with 1 Axes>"
      ]
     },
     "metadata": {
      "needs_background": "light"
     },
     "output_type": "display_data"
    }
   ],
   "source": [
    "X = np.array(df['log-conc'])[:, None]\n",
    "y = np.array(df['log-zsv'])[:, None]\n",
    "\n",
    "plt.plot(X, y, 'ko', label='Training Data')\n",
    "plt.xlabel('X')\n",
    "plt.ylabel('y')"
   ]
  },
  {
   "cell_type": "markdown",
   "metadata": {},
   "source": [
    "As with other `sklearn` models, we can simply import the library. We do that here, and look at the options.\n",
    "\n"
   ]
  },
  {
   "cell_type": "code",
   "execution_count": 24,
   "metadata": {},
   "outputs": [],
   "source": [
    "from sklearn.gaussian_process import GaussianProcessRegressor\n",
    "?GaussianProcessRegressor"
   ]
  },
  {
   "cell_type": "markdown",
   "metadata": {},
   "source": [
    "We also need to import the kernel function. We use a standard Gaussian kernel, known here as a Radial Basis Function, or RBF.\n",
    "\n"
   ]
  },
  {
   "cell_type": "code",
   "execution_count": 25,
   "metadata": {},
   "outputs": [],
   "source": [
    "from sklearn.gaussian_process.kernels import RBF\n",
    "?RBF"
   ]
  },
  {
   "cell_type": "markdown",
   "metadata": {},
   "source": [
    "We start here with an initial guess for the required hyperparameters. We also look at the \"settable\" parameters.\n",
    "\n"
   ]
  },
  {
   "cell_type": "code",
   "execution_count": 26,
   "metadata": {},
   "outputs": [
    {
     "data": {
      "text/plain": [
       "{'alpha': 0.1,\n",
       " 'copy_X_train': True,\n",
       " 'kernel__length_scale': 1.0,\n",
       " 'kernel__length_scale_bounds': (1e-05, 100000.0),\n",
       " 'kernel': RBF(length_scale=1),\n",
       " 'n_restarts_optimizer': 0,\n",
       " 'normalize_y': False,\n",
       " 'optimizer': 'fmin_l_bfgs_b',\n",
       " 'random_state': None}"
      ]
     },
     "execution_count": 26,
     "metadata": {},
     "output_type": "execute_result"
    }
   ],
   "source": [
    "kernel = RBF()\n",
    "gp = GaussianProcessRegressor(alpha=1e-1, kernel=kernel)\n",
    "gp.get_params()"
   ]
  },
  {
   "cell_type": "markdown",
   "metadata": {},
   "source": [
    "We use the standard `sklearn` fit function to train this model.\n",
    "\n"
   ]
  },
  {
   "cell_type": "code",
   "execution_count": 27,
   "metadata": {},
   "outputs": [
    {
     "name": "stdout",
     "output_type": "stream",
     "text": [
      "Optimized kernel parameters: {'length_scale': 9.999999999999997e-06, 'length_scale_bounds': (1e-05, 100000.0)}\n"
     ]
    }
   ],
   "source": [
    "gp = gp.fit(X, y)\n",
    "print('Optimized kernel parameters:',gp.kernel_.get_params())"
   ]
  },
  {
   "cell_type": "markdown",
   "metadata": {},
   "source": [
    "Next, we examine how well this model worked. *Unlike* other models, this model also provides an estimate of the uncertainty on the predictions.\n",
    "\n"
   ]
  },
  {
   "cell_type": "code",
   "execution_count": 32,
   "metadata": {},
   "outputs": [
    {
     "data": {
      "text/plain": [
       "<matplotlib.legend.Legend at 0x2d9cc3962c8>"
      ]
     },
     "execution_count": 32,
     "metadata": {},
     "output_type": "execute_result"
    },
    {
     "data": {
      "image/png": "[encoded data removed]",
      "text/plain": [
       "<Figure size 432x288 with 1 Axes>"
      ]
     },
     "metadata": {
      "needs_background": "light"
     },
     "output_type": "display_data"
    }
   ],
   "source": [
    "# Test data\n",
    "x1 = np.linspace(-1, 8)\n",
    "y1, y1std = gp.predict(x1[:, np.newaxis], return_std=True)\n",
    "\n",
    "plt.plot(X, y, 'ko', label = 'Training Data')\n",
    "plt.plot(x1, y1, 'b-', label = \"Predicted Function Mean\")\n",
    "plt.title(\"Zero Shear Viscosity of Wormlike Micelles\")\n",
    "plt.xlabel('X')\n",
    "plt.ylabel('y')\n",
    "\n",
    "# Plotting the uncertainty\n",
    "y1 = y1.flatten()\n",
    "plt.fill_between(x1, y1 - y1std, y1 + y1std, alpha=0.3, color='k', label=\"Uncertainty\")\n",
    "\n",
    "plt.xlabel(\"log (Salt concentration)\")\n",
    "plt.ylabel(\"log (zero shear viscosity)\")\n",
    "plt.legend()"
   ]
  },
  {
   "cell_type": "markdown",
   "metadata": {},
   "source": [
    "This model does not work well. We need to work on the model hyperparameters.\n",
    "\n",
    "Let us look at the parameters of the RBF kernel. We have an argument called 'lengthscale' and length\\_scale\\_bounds.\n",
    "\n",
    "Lengthscale is basically the length of the smallest wiggle in the function. It tells us, beyond what distance would two points not be correlated. Thus, we won’t be able to efficiently extrapolate beyond one lengthscale outside the data set. scikit-learn optimizes the lengthscale when we use .fit() within the length\\_scale\\_bounds. The default bounds of 1e-5 to 1e5 are too wide for our data set.\n",
    "\n",
    "We can guide the optimization of the model by setting stricter bounds on the lengthscale. Let us go with 0.1 to 1.\n",
    "\n"
   ]
  },
  {
   "cell_type": "code",
   "execution_count": 33,
   "metadata": {},
   "outputs": [
    {
     "name": "stdout",
     "output_type": "stream",
     "text": [
      "Optimized kernel parameters: {'length_scale': 0.3475165861659723, 'length_scale_bounds': (0.1, 1.0)}\n"
     ]
    }
   ],
   "source": [
    "kernel = RBF(length_scale_bounds = (0.1, 1.0))\n",
    "\n",
    "gp = GaussianProcessRegressor(alpha = 0.1, kernel = kernel)\n",
    "\n",
    "gp = gp.fit(X, y)\n",
    "\n",
    "print('Optimized kernel parameters:',gp.kernel_.get_params())"
   ]
  },
  {
   "cell_type": "markdown",
   "metadata": {},
   "source": [
    "Now, we can re-evaluate the fit.\n",
    "\n"
   ]
  },
  {
   "cell_type": "code",
   "execution_count": 34,
   "metadata": {},
   "outputs": [
    {
     "data": {
      "text/plain": [
       "<matplotlib.legend.Legend at 0x2d9cc3fa488>"
      ]
     },
     "execution_count": 34,
     "metadata": {},
     "output_type": "execute_result"
    },
    {
     "data": {
      "image/png": "[encoded data removed]",
      "text/plain": [
       "<Figure size 432x288 with 1 Axes>"
      ]
     },
     "metadata": {
      "needs_background": "light"
     },
     "output_type": "display_data"
    }
   ],
   "source": [
    "x1 = np.linspace(-1, 8)\n",
    "y1, y1std = gp.predict(x1[:, np.newaxis], return_std=True)\n",
    "\n",
    "plt.plot(X, y, 'ko', label = 'Training Data')\n",
    "plt.plot(x1, y1, 'b-', label = \"Predicted Function Mean\")\n",
    "plt.title(\"Zero Shear Viscosity of Wormlike Micelles\")\n",
    "plt.xlabel('X')\n",
    "plt.ylabel('y')\n",
    "\n",
    "# Plotting the uncertainty\n",
    "y1 = y1.flatten()\n",
    "plt.fill_between(x1, y1 - y1std, y1 + y1std, alpha=0.3, color='k', label = \"Uncertainty\")\n",
    "\n",
    "plt.xlabel(\"log (Salt concentration)\")\n",
    "plt.ylabel(\"log (zero shear viscosity)\")\n",
    "plt.legend()"
   ]
  },
  {
   "cell_type": "markdown",
   "metadata": {},
   "source": [
    "As we can see now, this is a much better model. With the uncertainty regions along the function, we would know which areas would require more data and can target gathering data (in this case through experiments) only in the regions of high uncertainty. The final acceptable uncertainty in the model is upto the user to decide.\n",
    "\n",
    "Over here we have chosen the bounds (0.1 to 1.0) based on some domain insight and hyperparameter optimization using log marginal likelihood. The actual mechanics behind LML might require a deeper dive into Bayesian approaches in ML.\n",
    "\n",
    "Let's consider extrapolation. GP is not a magic bullet either. Once you get far from your known data, the correlation with known data decays to zero, and the model extrapolates like the kernel function. Since the Gaussian function has not physics in it, this model does not extrapolate with physical meaning.\n",
    "\n"
   ]
  },
  {
   "cell_type": "code",
   "execution_count": 35,
   "metadata": {},
   "outputs": [
    {
     "data": {
      "text/plain": [
       "<matplotlib.legend.Legend at 0x2d9cc48de48>"
      ]
     },
     "execution_count": 35,
     "metadata": {},
     "output_type": "execute_result"
    },
    {
     "data": {
      "image/png": "[encoded data removed]",
      "text/plain": [
       "<Figure size 432x288 with 1 Axes>"
      ]
     },
     "metadata": {
      "needs_background": "light"
     },
     "output_type": "display_data"
    }
   ],
   "source": [
    "x1 = np.linspace(-10, 18, 1500)\n",
    "y1, y1std = gp.predict(x1[:, np.newaxis], return_std=True)\n",
    "\n",
    "plt.plot(X, y, 'ko', label = 'Training Data')\n",
    "plt.plot(x1, y1, 'b-', label = \"Predicted Function Mean\")\n",
    "plt.title(\"Zero Shear Viscosity of Wormlike Micelles\")\n",
    "plt.xlabel('X')\n",
    "plt.ylabel('y')\n",
    "\n",
    "# Plotting the uncertainty\n",
    "y1 = y1.flatten()\n",
    "plt.fill_between(x1, y1 - y1std, y1 + y1std, alpha=0.3, color='k', label = \"Uncertainty\")\n",
    "\n",
    "plt.xlabel(\"log (Salt concentration)\")\n",
    "plt.ylabel(\"log (zero shear viscosity)\")\n",
    "plt.legend()"
   ]
  },
  {
   "cell_type": "markdown",
   "metadata": {},
   "source": [
    "The RBF is a generic kernel that always works when you have enough data. It is similar to using tanh in a neural network, which also always works when you have enough data.\n",
    "\n",
    "GPR and neural networks are related conceptually. You can think of the GP as an expansion of the data in an *infinite* set of basis functions. Nns, in contrast, are like an expansion in a *finite* basis set. In the limit of an infinitely wide NN, i.e. if you could have an infinite number of neurons in a layer, it is basically equivalent to a GP. OF course, we cannot compute an infinitely wide NN, and the GP is only possible because there is clever math that converts the infinite sum to an equivalent finite sum, this is called the \"kernel trick\".\n",
    "\n",
    "There are some critical differences between GP and neural networks though. While neural networks have parameters, in the form of weights and biases, a GP only has hyperparameters in the form of things like the lengthscale of correlation.\n",
    "\n",
    "The cost of evaluating a NN is a constant and does not depend on the size of the training data. In contrast, the cost of evaluating a GP *depends* on the size of the training data because you have to compute the correlation between the new point and *all* of the existing points. This can be expensive for large data sets.\n",
    "\n",
    "Many people like GP because it comes with an estimate of the uncertainty in the prediction. You should take this with some care, it is the uncertainty associated with an imperfect and assumed correlation between data points. If you have a very poor kernel, the uncertainty may not be useful.\n",
    "\n",
    "Neural networks do not have an easy way to estimate uncertainty. There are some approaches to doing it, also based on some assumptions, but most require access to the second derivative of the training function with respect to the model parameters, which can be expensive to compute. It is not common to see uncertainty estimates for neural networks yet.\n",
    "\n"
   ]
  },
  {
   "cell_type": "markdown",
   "metadata": {},
   "source": [
    "## Summary\n",
    "\n"
   ]
  },
  {
   "cell_type": "markdown",
   "metadata": {},
   "source": [
    "This was a brief introduction to two styles of nonlinear modeling in `sklearn`. There are many, more powerful things that you can do with them, including using multi-dimensional inputs, adding regularization, kernel engineering, etc.\n",
    "\n",
    "There is not much on neural networks for regression in sklearn, but there are some examples at [https://scikit-learn.org/stable/auto_examples/index.html#neural-networks>](https://scikit-learn.org/stable/auto_examples/index.html#neural-networks>)on classification.\n",
    "\n",
    "For more examples on Gaussian process in sklearn see [https://scikit-learn.org/stable/auto_examples/index.html#gaussian-process-for-machine-learning](https://scikit-learn.org/stable/auto_examples/index.html#gaussian-process-for-machine-learning).\n",
    "\n",
    "There are many other algorithms available for regression in sklearn: [https://scikit-learn.org/stable/supervised_learning.html](https://scikit-learn.org/stable/supervised_learning.html)\n",
    "\n",
    "You should be wary of approaches that try all these and then report the best one. In principle, many can work equally well with enough data. Unless you can explain why an approach is mathematically better suited for a data set, odds are the better fit is due to luck and/or overfitting. Neither of these is helpful when you want to make reliable predictions!\n",
    "\n"
   ]
  }
 ],
 "metadata": {
  "kernelspec": {
   "display_name": "Python 3",
   "language": "python",
   "name": "python3"
  },
  "language_info": {
   "codemirror_mode": {
    "name": "ipython",
    "version": 3
   },
   "file_extension": ".py",
   "mimetype": "text/x-python",
   "name": "python",
   "nbconvert_exporter": "python",
   "pygments_lexer": "ipython3",
   "version": "3.7.6"
  },
  "org": null
 },
 "nbformat": 4,
 "nbformat_minor": 1
}
